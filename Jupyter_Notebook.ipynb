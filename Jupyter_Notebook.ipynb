{
  "metadata": {
    "kernelspec": {
      "name": "python",
      "display_name": "Pyolite",
      "language": "python"
    },
    "language_info": {
      "codemirror_mode": {
        "name": "python",
        "version": 3
      },
      "file_extension": ".py",
      "mimetype": "text/x-python",
      "name": "python",
      "nbconvert_exporter": "python",
      "pygments_lexer": "ipython3",
      "version": "3.8"
    }
  },
  "nbformat_minor": 4,
  "nbformat": 4,
  "cells": [
    {
      "cell_type": "markdown",
      "source": "<center>\n    <img src=\"https://s3-api.us-geo.objectstorage.softlayer.net/cf-courses-data/CognitiveClass/Logos/organization_logo/organization_logo.png\" width=\"300\" alt=\"cognitiveclass.ai logo\"  />\n</center>\n",
      "metadata": {}
    },
    {
      "cell_type": "markdown",
      "source": "#### Add your code below following the instructions given in the course\n",
      "metadata": {}
    },
    {
      "cell_type": "markdown",
      "source": "# My Jupyter Notebook on IBM Watson Studio",
      "metadata": {}
    },
    {
      "cell_type": "markdown",
      "source": "**Abdelrahman Waleed**",
      "metadata": {}
    },
    {
      "cell_type": "markdown",
      "source": "_I'm interested in data science because i like making predictions and expecting future events._",
      "metadata": {}
    },
    {
      "cell_type": "markdown",
      "source": "### This code prints only strings or (even) integer numbers from the given list",
      "metadata": {}
    },
    {
      "cell_type": "code",
      "source": "list =[True,5,\"Thanks\",45,True,\"For Reviewing\",(1,2,3),\"My Assignment :)\",{1,2,3},\"  date:\",81,\"July\",False, 2022,\".\"]\nfor anything in list:\n    if type(anything)==str or (type(anything)==int and anything%2==0):\n        print(anything,end=\" \")\n      ",
      "metadata": {
        "trusted": true
      },
      "execution_count": 11,
      "outputs": [
        {
          "name": "stdout",
          "text": "Thanks For Reviewing My Assignment :)   date: July 2022 . ",
          "output_type": "stream"
        }
      ]
    },
    {
      "cell_type": "markdown",
      "source": "| Name | Weight | Price |\n| ---- | -----   | -----|\n| Banana| 100 gm| 1 dollar |\n",
      "metadata": {}
    },
    {
      "cell_type": "markdown",
      "source": "   [Chrome](http://www.google.com)",
      "metadata": {}
    },
    {
      "cell_type": "markdown",
      "source": "1. one\n2. two\n3. three",
      "metadata": {}
    },
    {
      "cell_type": "markdown",
      "source": "***\n",
      "metadata": {}
    },
    {
      "cell_type": "markdown",
      "source": "* one\n* two\n* three",
      "metadata": {}
    },
    {
      "cell_type": "code",
      "source": "",
      "metadata": {},
      "execution_count": null,
      "outputs": []
    }
  ]
}